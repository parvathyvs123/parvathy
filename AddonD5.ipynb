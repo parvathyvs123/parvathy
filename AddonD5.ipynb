{
 "cells": [
  {
   "cell_type": "markdown",
   "id": "2150aa09",
   "metadata": {},
   "source": [
    "# DAY 5"
   ]
  },
  {
   "cell_type": "code",
   "execution_count": 3,
   "id": "d54deb5d",
   "metadata": {},
   "outputs": [],
   "source": [
    "animals=['cat','dog','pig','elephant','cow']"
   ]
  },
  {
   "cell_type": "code",
   "execution_count": 4,
   "id": "3145a374",
   "metadata": {},
   "outputs": [],
   "source": [
    "animals.append('pig')"
   ]
  },
  {
   "cell_type": "code",
   "execution_count": 5,
   "id": "e0823ef9",
   "metadata": {},
   "outputs": [
    {
     "data": {
      "text/plain": [
       "['cat', 'dog', 'pig', 'elephant', 'cow', 'pig']"
      ]
     },
     "execution_count": 5,
     "metadata": {},
     "output_type": "execute_result"
    }
   ],
   "source": [
    "animals"
   ]
  },
  {
   "cell_type": "code",
   "execution_count": 6,
   "id": "26f46307",
   "metadata": {},
   "outputs": [
    {
     "data": {
      "text/plain": [
       "'pig'"
      ]
     },
     "execution_count": 6,
     "metadata": {},
     "output_type": "execute_result"
    }
   ],
   "source": [
    "animals.pop()"
   ]
  },
  {
   "cell_type": "code",
   "execution_count": 7,
   "id": "f5bf0e29",
   "metadata": {},
   "outputs": [
    {
     "data": {
      "text/plain": [
       "'elephant'"
      ]
     },
     "execution_count": 7,
     "metadata": {},
     "output_type": "execute_result"
    }
   ],
   "source": [
    "animals.pop(3)"
   ]
  },
  {
   "cell_type": "code",
   "execution_count": 8,
   "id": "07b55967",
   "metadata": {},
   "outputs": [],
   "source": [
    "animals.insert(3,'goat')"
   ]
  },
  {
   "cell_type": "code",
   "execution_count": 10,
   "id": "cca2e4a1",
   "metadata": {},
   "outputs": [
    {
     "data": {
      "text/plain": [
       "['cat', 'dog', 'pig', 'goat', 'cow']"
      ]
     },
     "execution_count": 10,
     "metadata": {},
     "output_type": "execute_result"
    }
   ],
   "source": [
    "animals"
   ]
  },
  {
   "cell_type": "code",
   "execution_count": 11,
   "id": "3cd2925d",
   "metadata": {},
   "outputs": [],
   "source": [
    "animals.sort(reverse=True)"
   ]
  },
  {
   "cell_type": "code",
   "execution_count": 12,
   "id": "4c812465",
   "metadata": {},
   "outputs": [
    {
     "data": {
      "text/plain": [
       "['pig', 'goat', 'dog', 'cow', 'cat']"
      ]
     },
     "execution_count": 12,
     "metadata": {},
     "output_type": "execute_result"
    }
   ],
   "source": [
    "animals"
   ]
  },
  {
   "cell_type": "code",
   "execution_count": 13,
   "id": "f9f63354",
   "metadata": {},
   "outputs": [
    {
     "data": {
      "text/plain": [
       "1"
      ]
     },
     "execution_count": 13,
     "metadata": {},
     "output_type": "execute_result"
    }
   ],
   "source": [
    "animals.count('cat')"
   ]
  },
  {
   "cell_type": "code",
   "execution_count": 14,
   "id": "406c8deb",
   "metadata": {},
   "outputs": [],
   "source": [
    "animals[2]='elephant'"
   ]
  },
  {
   "cell_type": "code",
   "execution_count": 15,
   "id": "87f282a9",
   "metadata": {},
   "outputs": [
    {
     "data": {
      "text/plain": [
       "['pig', 'goat', 'elephant', 'cow', 'cat']"
      ]
     },
     "execution_count": 15,
     "metadata": {},
     "output_type": "execute_result"
    }
   ],
   "source": [
    "animals"
   ]
  },
  {
   "cell_type": "markdown",
   "id": "d1ab8a2f",
   "metadata": {},
   "source": [
    "# tuple"
   ]
  },
  {
   "cell_type": "code",
   "execution_count": 18,
   "id": "843b90f3",
   "metadata": {},
   "outputs": [],
   "source": [
    "students=('parvathy','diya','misba','sonal','jasim')"
   ]
  },
  {
   "cell_type": "code",
   "execution_count": 19,
   "id": "deecdb95",
   "metadata": {},
   "outputs": [
    {
     "data": {
      "text/plain": [
       "tuple"
      ]
     },
     "execution_count": 19,
     "metadata": {},
     "output_type": "execute_result"
    }
   ],
   "source": [
    "type(students)"
   ]
  },
  {
   "cell_type": "code",
   "execution_count": 22,
   "id": "67a9ddf6",
   "metadata": {},
   "outputs": [
    {
     "ename": "AttributeError",
     "evalue": "'tuple' object has no attribute 'append'",
     "output_type": "error",
     "traceback": [
      "\u001b[1;31m---------------------------------------------------------------------------\u001b[0m",
      "\u001b[1;31mAttributeError\u001b[0m                            Traceback (most recent call last)",
      "Cell \u001b[1;32mIn[22], line 1\u001b[0m\n\u001b[1;32m----> 1\u001b[0m students\u001b[38;5;241m.\u001b[39mappend()\n",
      "\u001b[1;31mAttributeError\u001b[0m: 'tuple' object has no attribute 'append'"
     ]
    }
   ],
   "source": [
    "students.append()"
   ]
  },
  {
   "cell_type": "code",
   "execution_count": 23,
   "id": "dd393bd3",
   "metadata": {},
   "outputs": [],
   "source": [
    "games=('templerun','subwaysurf','ludo','freefire','pubg')"
   ]
  },
  {
   "cell_type": "code",
   "execution_count": 24,
   "id": "d3ea4834",
   "metadata": {},
   "outputs": [
    {
     "data": {
      "text/plain": [
       "['templerun', 'subwaysurf', 'ludo', 'freefire', 'pubg']"
      ]
     },
     "execution_count": 24,
     "metadata": {},
     "output_type": "execute_result"
    }
   ],
   "source": [
    "list(games)"
   ]
  },
  {
   "cell_type": "code",
   "execution_count": 26,
   "id": "8ce55772",
   "metadata": {},
   "outputs": [
    {
     "data": {
      "text/plain": [
       "('templerun', 'subwaysurf', 'ludo', 'freefire', 'pubg')"
      ]
     },
     "execution_count": 26,
     "metadata": {},
     "output_type": "execute_result"
    }
   ],
   "source": [
    "tuple(games)"
   ]
  },
  {
   "cell_type": "code",
   "execution_count": 27,
   "id": "a7a0961c",
   "metadata": {},
   "outputs": [],
   "source": [
    "new=list(students)"
   ]
  },
  {
   "cell_type": "code",
   "execution_count": 28,
   "id": "7b2b4d2a",
   "metadata": {},
   "outputs": [
    {
     "data": {
      "text/plain": [
       "['parvathy', 'diya', 'misba', 'sonal', 'jasim']"
      ]
     },
     "execution_count": 28,
     "metadata": {},
     "output_type": "execute_result"
    }
   ],
   "source": [
    "new"
   ]
  },
  {
   "cell_type": "code",
   "execution_count": 29,
   "id": "90f31b3c",
   "metadata": {},
   "outputs": [],
   "source": [
    "students=list(games)"
   ]
  },
  {
   "cell_type": "code",
   "execution_count": 30,
   "id": "a84375ec",
   "metadata": {},
   "outputs": [
    {
     "data": {
      "text/plain": [
       "['templerun', 'subwaysurf', 'ludo', 'freefire', 'pubg']"
      ]
     },
     "execution_count": 30,
     "metadata": {},
     "output_type": "execute_result"
    }
   ],
   "source": [
    "students"
   ]
  },
  {
   "cell_type": "markdown",
   "id": "15f45f4d",
   "metadata": {},
   "source": [
    "# dictionary"
   ]
  },
  {
   "cell_type": "code",
   "execution_count": 45,
   "id": "a70665ce",
   "metadata": {},
   "outputs": [],
   "source": [
    "friends={'diya':'potta','misba':'kaiparamb','sonal':'valapad','jasim':'thalikulam'}"
   ]
  },
  {
   "cell_type": "code",
   "execution_count": 46,
   "id": "0bb0ab6a",
   "metadata": {},
   "outputs": [
    {
     "data": {
      "text/plain": [
       "{'diya': 'potta',\n",
       " 'misba': 'kaiparamb',\n",
       " 'sonal': 'valapad',\n",
       " 'jasim': 'thalikulam'}"
      ]
     },
     "execution_count": 46,
     "metadata": {},
     "output_type": "execute_result"
    }
   ],
   "source": [
    "friends"
   ]
  },
  {
   "cell_type": "code",
   "execution_count": 47,
   "id": "4720c30f",
   "metadata": {},
   "outputs": [],
   "source": [
    "friends['sonal']='valapad'"
   ]
  },
  {
   "cell_type": "code",
   "execution_count": 48,
   "id": "e809754e",
   "metadata": {},
   "outputs": [
    {
     "data": {
      "text/plain": [
       "{'diya': 'potta',\n",
       " 'misba': 'kaiparamb',\n",
       " 'sonal': 'valapad',\n",
       " 'jasim': 'thalikulam'}"
      ]
     },
     "execution_count": 48,
     "metadata": {},
     "output_type": "execute_result"
    }
   ],
   "source": [
    "friends"
   ]
  },
  {
   "cell_type": "code",
   "execution_count": 49,
   "id": "8afb281e",
   "metadata": {},
   "outputs": [
    {
     "data": {
      "text/plain": [
       "'kaiparamb'"
      ]
     },
     "execution_count": 49,
     "metadata": {},
     "output_type": "execute_result"
    }
   ],
   "source": [
    "friends.pop('misba')"
   ]
  },
  {
   "cell_type": "code",
   "execution_count": 50,
   "id": "94bf5450",
   "metadata": {},
   "outputs": [
    {
     "data": {
      "text/plain": [
       "('jasim', 'thalikulam')"
      ]
     },
     "execution_count": 50,
     "metadata": {},
     "output_type": "execute_result"
    }
   ],
   "source": [
    "friends.popitem()"
   ]
  },
  {
   "cell_type": "code",
   "execution_count": 51,
   "id": "5e926560",
   "metadata": {},
   "outputs": [],
   "source": [
    "states={'KL':{'Capital':'Tvm','Rank':1},'TN':{'Capital':'Cni','Rank':2},'KA':{'Capital':'Blr','Rank':3},'TS':{'Capital':'Hyd','Rank':4}}"
   ]
  },
  {
   "cell_type": "code",
   "execution_count": 52,
   "id": "b84badda",
   "metadata": {},
   "outputs": [
    {
     "data": {
      "text/plain": [
       "{'KL': {'Capital': 'Tvm', 'Rank': 1},\n",
       " 'TN': {'Capital': 'Cni', 'Rank': 2},\n",
       " 'KA': {'Capital': 'Blr', 'Rank': 3},\n",
       " 'TS': {'Capital': 'Hyd', 'Rank': 4}}"
      ]
     },
     "execution_count": 52,
     "metadata": {},
     "output_type": "execute_result"
    }
   ],
   "source": [
    "states"
   ]
  },
  {
   "cell_type": "code",
   "execution_count": 56,
   "id": "d01b001c",
   "metadata": {},
   "outputs": [
    {
     "data": {
      "text/plain": [
       "{'Capital': 'Blr', 'Rank': 3}"
      ]
     },
     "execution_count": 56,
     "metadata": {},
     "output_type": "execute_result"
    }
   ],
   "source": [
    "states['KA']"
   ]
  },
  {
   "cell_type": "code",
   "execution_count": 64,
   "id": "87c4fe6e",
   "metadata": {},
   "outputs": [
    {
     "data": {
      "text/plain": [
       "2"
      ]
     },
     "execution_count": 64,
     "metadata": {},
     "output_type": "execute_result"
    }
   ],
   "source": [
    "states['TN']['Rank']"
   ]
  },
  {
   "cell_type": "code",
   "execution_count": 65,
   "id": "dd9e80a1",
   "metadata": {},
   "outputs": [
    {
     "data": {
      "text/plain": [
       "'Hyd'"
      ]
     },
     "execution_count": 65,
     "metadata": {},
     "output_type": "execute_result"
    }
   ],
   "source": [
    "states['TS']['Capital']"
   ]
  },
  {
   "cell_type": "markdown",
   "id": "7d330a65",
   "metadata": {},
   "source": [
    "# Set"
   ]
  },
  {
   "cell_type": "code",
   "execution_count": 3,
   "id": "9927fc1e",
   "metadata": {},
   "outputs": [],
   "source": [
    "animals={'cat','dog','pig','elephant','cow'}"
   ]
  },
  {
   "cell_type": "code",
   "execution_count": 4,
   "id": "596ecef5",
   "metadata": {},
   "outputs": [
    {
     "data": {
      "text/plain": [
       "{'cat', 'cow', 'dog', 'elephant', 'pig'}"
      ]
     },
     "execution_count": 4,
     "metadata": {},
     "output_type": "execute_result"
    }
   ],
   "source": [
    "animals"
   ]
  },
  {
   "cell_type": "code",
   "execution_count": 10,
   "id": "de89dc57",
   "metadata": {},
   "outputs": [],
   "source": [
    "animals.add('monkey')"
   ]
  },
  {
   "cell_type": "code",
   "execution_count": 11,
   "id": "016675cf",
   "metadata": {},
   "outputs": [
    {
     "data": {
      "text/plain": [
       "{'cat', 'cow', 'dog', 'elephant', 'monkey', 'pig'}"
      ]
     },
     "execution_count": 11,
     "metadata": {},
     "output_type": "execute_result"
    }
   ],
   "source": [
    "animals"
   ]
  },
  {
   "cell_type": "code",
   "execution_count": 12,
   "id": "939a0460",
   "metadata": {},
   "outputs": [
    {
     "ename": "TypeError",
     "evalue": "set.pop() takes no arguments (1 given)",
     "output_type": "error",
     "traceback": [
      "\u001b[1;31m---------------------------------------------------------------------------\u001b[0m",
      "\u001b[1;31mTypeError\u001b[0m                                 Traceback (most recent call last)",
      "Cell \u001b[1;32mIn[12], line 1\u001b[0m\n\u001b[1;32m----> 1\u001b[0m animals\u001b[38;5;241m.\u001b[39mpop(\u001b[38;5;124m'\u001b[39m\u001b[38;5;124mmonkey\u001b[39m\u001b[38;5;124m'\u001b[39m)\n",
      "\u001b[1;31mTypeError\u001b[0m: set.pop() takes no arguments (1 given)"
     ]
    }
   ],
   "source": [
    "animals.pop('monkey')"
   ]
  },
  {
   "cell_type": "code",
   "execution_count": 14,
   "id": "9a222542",
   "metadata": {},
   "outputs": [
    {
     "data": {
      "text/plain": [
       "'pig'"
      ]
     },
     "execution_count": 14,
     "metadata": {},
     "output_type": "execute_result"
    }
   ],
   "source": [
    "animals.pop()"
   ]
  },
  {
   "cell_type": "code",
   "execution_count": 15,
   "id": "dd333d76",
   "metadata": {},
   "outputs": [],
   "source": [
    "animals.remove('dog')"
   ]
  },
  {
   "cell_type": "code",
   "execution_count": 16,
   "id": "ceb7d36d",
   "metadata": {},
   "outputs": [
    {
     "data": {
      "text/plain": [
       "{'cat', 'cow', 'elephant', 'monkey'}"
      ]
     },
     "execution_count": 16,
     "metadata": {},
     "output_type": "execute_result"
    }
   ],
   "source": [
    "animals"
   ]
  },
  {
   "cell_type": "code",
   "execution_count": 24,
   "id": "0d82e477",
   "metadata": {},
   "outputs": [],
   "source": [
    "def addition(a,b):\n",
    "    c=a+b\n",
    "    return c"
   ]
  },
  {
   "cell_type": "code",
   "execution_count": 25,
   "id": "8e457894",
   "metadata": {},
   "outputs": [
    {
     "name": "stdout",
     "output_type": "stream",
     "text": [
      "Enter No 01:5\n",
      "Enter No 02:10\n"
     ]
    },
    {
     "data": {
      "text/plain": [
       "15"
      ]
     },
     "execution_count": 25,
     "metadata": {},
     "output_type": "execute_result"
    }
   ],
   "source": [
    "a=int(input('Enter No 01:'))\n",
    "b=int(input('Enter No 02:'))\n",
    "addition(a,b)"
   ]
  },
  {
   "cell_type": "code",
   "execution_count": 26,
   "id": "da3c4195",
   "metadata": {},
   "outputs": [],
   "source": [
    "def Multiplication(a,b):\n",
    "    c=a*b\n",
    "    return c"
   ]
  },
  {
   "cell_type": "code",
   "execution_count": 27,
   "id": "01973be3",
   "metadata": {},
   "outputs": [
    {
     "name": "stdout",
     "output_type": "stream",
     "text": [
      "Enter No 01:6\n",
      "Enter No 02:4\n"
     ]
    },
    {
     "data": {
      "text/plain": [
       "24"
      ]
     },
     "execution_count": 27,
     "metadata": {},
     "output_type": "execute_result"
    }
   ],
   "source": [
    "a=int(input('Enter No 01:'))\n",
    "b=int(input('Enter No 02:'))\n",
    "Multiplication(a,b)"
   ]
  },
  {
   "cell_type": "code",
   "execution_count": 28,
   "id": "da6b0b2c",
   "metadata": {},
   "outputs": [],
   "source": [
    "def division(a,b):\n",
    "    c=a-b\n",
    "    return c"
   ]
  },
  {
   "cell_type": "code",
   "execution_count": 29,
   "id": "5be31f2b",
   "metadata": {},
   "outputs": [
    {
     "name": "stdout",
     "output_type": "stream",
     "text": [
      "Enter No 01:25\n",
      "Enter No 02:15\n"
     ]
    },
    {
     "data": {
      "text/plain": [
       "10"
      ]
     },
     "execution_count": 29,
     "metadata": {},
     "output_type": "execute_result"
    }
   ],
   "source": [
    "a=int(input('Enter No 01:'))\n",
    "b=int(input('Enter No 02:'))\n",
    "division(a,b)"
   ]
  },
  {
   "cell_type": "code",
   "execution_count": 30,
   "id": "22ef026c",
   "metadata": {},
   "outputs": [],
   "source": [
    "def substraction(a,b):\n",
    "    c=a/b\n",
    "    return c"
   ]
  },
  {
   "cell_type": "code",
   "execution_count": 34,
   "id": "7609344b",
   "metadata": {},
   "outputs": [
    {
     "name": "stdout",
     "output_type": "stream",
     "text": [
      "Enter No 01:24\n",
      "Enter No 02:2\n"
     ]
    },
    {
     "data": {
      "text/plain": [
       "12.0"
      ]
     },
     "execution_count": 34,
     "metadata": {},
     "output_type": "execute_result"
    }
   ],
   "source": [
    "a=int(input('Enter No 01:'))\n",
    "b=int(input('Enter No 02:'))\n",
    "substraction(a,b)"
   ]
  },
  {
   "cell_type": "code",
   "execution_count": 37,
   "id": "c990627a",
   "metadata": {},
   "outputs": [],
   "source": [
    "a=10 #this is a local variable\n",
    "def add01():\n",
    "    x=int(input('enter a number')) #this is a local variable\n",
    "    return (x+a)"
   ]
  },
  {
   "cell_type": "code",
   "execution_count": 40,
   "id": "7a65b7a8",
   "metadata": {},
   "outputs": [
    {
     "name": "stdout",
     "output_type": "stream",
     "text": [
      "enter a number22\n"
     ]
    },
    {
     "data": {
      "text/plain": [
       "32"
      ]
     },
     "execution_count": 40,
     "metadata": {},
     "output_type": "execute_result"
    }
   ],
   "source": [
    "add01()"
   ]
  },
  {
   "cell_type": "code",
   "execution_count": 44,
   "id": "e312c089",
   "metadata": {},
   "outputs": [],
   "source": [
    "def addupto(n):\n",
    "    if n==0:\n",
    "        return(0)\n",
    "    else:\n",
    "        return(n+addupto(n-1))"
   ]
  },
  {
   "cell_type": "code",
   "execution_count": 45,
   "id": "4b40b286",
   "metadata": {},
   "outputs": [
    {
     "data": {
      "text/plain": [
       "15"
      ]
     },
     "execution_count": 45,
     "metadata": {},
     "output_type": "execute_result"
    }
   ],
   "source": [
    "addupto(5)"
   ]
  },
  {
   "cell_type": "code",
   "execution_count": 48,
   "id": "112decb1",
   "metadata": {},
   "outputs": [
    {
     "name": "stdout",
     "output_type": "stream",
     "text": [
      "7\n"
     ]
    }
   ],
   "source": [
    "largest=lambda a,b:a if a>b else b\n",
    "print(largest(5,7))"
   ]
  },
  {
   "cell_type": "markdown",
   "id": "9521658b",
   "metadata": {},
   "source": [
    "# DAY5"
   ]
  },
  {
   "cell_type": "code",
   "execution_count": 6,
   "id": "333428fb",
   "metadata": {},
   "outputs": [],
   "source": [
    "def add(a,b):\n",
    "    c=a+b\n",
    "    return c"
   ]
  },
  {
   "cell_type": "code",
   "execution_count": 7,
   "id": "2f6d2931",
   "metadata": {},
   "outputs": [
    {
     "data": {
      "text/plain": [
       "23"
      ]
     },
     "execution_count": 7,
     "metadata": {},
     "output_type": "execute_result"
    }
   ],
   "source": [
    "add(15,8)"
   ]
  },
  {
   "cell_type": "code",
   "execution_count": 3,
   "id": "2de851a9",
   "metadata": {},
   "outputs": [
    {
     "name": "stdout",
     "output_type": "stream",
     "text": [
      "Enter the 1st num25\n",
      "Enter the 2nd num10\n",
      "sum is 35\n"
     ]
    }
   ],
   "source": [
    "x=int(input('Enter the 1st num'))\n",
    "y=int(input('Enter the 2nd num'))\n",
    "print('sum is',add(x,y))"
   ]
  },
  {
   "cell_type": "code",
   "execution_count": 20,
   "id": "5e1f8b5d",
   "metadata": {},
   "outputs": [],
   "source": [
    "def largest(x,y,z):\n",
    "    if x>y and x>z:\n",
    "        return x\n",
    "    elif y>x and y>z:\n",
    "        return y\n",
    "    else:\n",
    "            return z"
   ]
  },
  {
   "cell_type": "code",
   "execution_count": 23,
   "id": "5d1a4792",
   "metadata": {},
   "outputs": [
    {
     "data": {
      "text/plain": [
       "155"
      ]
     },
     "execution_count": 23,
     "metadata": {},
     "output_type": "execute_result"
    }
   ],
   "source": [
    "largest(122,145,155)"
   ]
  },
  {
   "cell_type": "code",
   "execution_count": 27,
   "id": "c734941d",
   "metadata": {},
   "outputs": [],
   "source": [
    "scores=['125','253','111','341','81']"
   ]
  },
  {
   "cell_type": "code",
   "execution_count": 28,
   "id": "eb7ef789",
   "metadata": {},
   "outputs": [
    {
     "data": {
      "text/plain": [
       "['125', '253', '111', '341', '81']"
      ]
     },
     "execution_count": 28,
     "metadata": {},
     "output_type": "execute_result"
    }
   ],
   "source": [
    "list(scores)"
   ]
  },
  {
   "cell_type": "code",
   "execution_count": 1,
   "id": "f1c4eca6",
   "metadata": {},
   "outputs": [
    {
     "name": "stdout",
     "output_type": "stream",
     "text": [
      "10\n"
     ]
    }
   ],
   "source": [
    "scores=[7,8,9,10,11,11]\n",
    "sc_set=set(scores)\n",
    "top=max(sc_set)\n",
    "sc_set.remove(top)\n",
    "print(max(sc_set))"
   ]
  },
  {
   "cell_type": "code",
   "execution_count": 2,
   "id": "0654febe",
   "metadata": {},
   "outputs": [
    {
     "data": {
      "text/plain": [
       "11"
      ]
     },
     "execution_count": 2,
     "metadata": {},
     "output_type": "execute_result"
    }
   ],
   "source": [
    "top"
   ]
  },
  {
   "cell_type": "code",
   "execution_count": 4,
   "id": "527060e8",
   "metadata": {},
   "outputs": [
    {
     "name": "stdout",
     "output_type": "stream",
     "text": [
      "{4, 5, 6}\n"
     ]
    }
   ],
   "source": [
    "s1={1,2,3,4,5,6}\n",
    "s2={4,5,6,7,8,9}\n",
    "if s1.intersection(s2):\n",
    "    print(s1&s2)\n",
    "else:\n",
    "    print(s1.union(s2))"
   ]
  },
  {
   "cell_type": "code",
   "execution_count": 2,
   "id": "63043855",
   "metadata": {},
   "outputs": [
    {
     "name": "stdout",
     "output_type": "stream",
     "text": [
      "Enter the name to be updatedjohn\n",
      "{'john': [88, 77, 99], 'peter': [87, 55, 96], 'ram': [58, 55, 43], 'Meena': [63, 79, 85]}\n"
     ]
    }
   ],
   "source": [
    "D={'john':[25,32,43],'peter':[87,55,96],'ram':[58,55,43],'Meena':[63,79,85]}\n",
    "n=input('Enter the name to be updated')\n",
    "if n in D:\n",
    "    D[n]=[88,77,99]\n",
    "    print(D)\n",
    "else:\n",
    "    print('name not found')"
   ]
  },
  {
   "cell_type": "code",
   "execution_count": 3,
   "id": "cb5ecb53",
   "metadata": {},
   "outputs": [
    {
     "data": {
      "text/plain": [
       "'Nraa'"
      ]
     },
     "execution_count": 3,
     "metadata": {},
     "output_type": "execute_result"
    }
   ],
   "source": [
    "s='Nirmala'\n",
    "s[::2]"
   ]
  },
  {
   "cell_type": "code",
   "execution_count": 5,
   "id": "ab72cd3e",
   "metadata": {},
   "outputs": [
    {
     "name": "stdout",
     "output_type": "stream",
     "text": [
      "Elder= 48\n",
      "youngest= 23\n"
     ]
    }
   ],
   "source": [
    "age=[23,36,48]\n",
    "print('Elder=',max(age))\n",
    "print('youngest=',min(age))"
   ]
  },
  {
   "cell_type": "code",
   "execution_count": null,
   "id": "0db316bc",
   "metadata": {},
   "outputs": [],
   "source": []
  }
 ],
 "metadata": {
  "kernelspec": {
   "display_name": "Python 3 (ipykernel)",
   "language": "python",
   "name": "python3"
  },
  "language_info": {
   "codemirror_mode": {
    "name": "ipython",
    "version": 3
   },
   "file_extension": ".py",
   "mimetype": "text/x-python",
   "name": "python",
   "nbconvert_exporter": "python",
   "pygments_lexer": "ipython3",
   "version": "3.11.5"
  }
 },
 "nbformat": 4,
 "nbformat_minor": 5
}
